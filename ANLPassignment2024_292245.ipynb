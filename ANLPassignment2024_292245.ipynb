{
  "cells": [
    {
      "cell_type": "markdown",
      "metadata": {
        "id": "view-in-github",
        "colab_type": "text"
      },
      "source": [
        "<a href=\"https://colab.research.google.com/github/goutam1469/ANLP/blob/main/ANLPassignment2024_292245.ipynb\" target=\"_parent\"><img src=\"https://colab.research.google.com/assets/colab-badge.svg\" alt=\"Open In Colab\"/></a>"
      ]
    },
    {
      "cell_type": "markdown",
      "metadata": {
        "id": "f2S8I2ny-ovS"
      },
      "source": [
        "# ANLP Assignment: Sentiment Classification\n",
        "\n",
        "In this assignment, you will be investigating NLP methods for distinguishing positive and negative reviews written about movies.\n",
        "\n",
        "For assessment, you are expected to complete and submit this notebook file.  When answers require code, you may import and use library functions (unless explicitly told otherwise).  All of your own code should be included in the notebook rather than imported from elsewhere.  Written answers should also be included in the notebook.  You should insert as many extra cells as you want and change the type between code and markdown as appropriate.\n",
        "\n",
        "In order to avoid misconduct, you should not talk about the assignment questions with your peers.  If you are not sure what a question is asking you to do or have any other questions, please ask me or one of the Teaching Assistants.\n",
        "\n",
        "Marking guidelines are provided as a separate document.\n",
        "\n",
        "The first few cells contain code to set-up the assignment and bring in some data.   In order to provide unique datasets for analysis by different students, you must enter your candidate number in the following cell.  Otherwise do not change the code in these cells."
      ]
    },
    {
      "cell_type": "code",
      "execution_count": null,
      "metadata": {
        "id": "1gXQAZas-l9c"
      },
      "outputs": [],
      "source": [
        "candidateno=292245 #this MUST be updated to your candidate number so that you get a unique data sample\n"
      ]
    },
    {
      "cell_type": "code",
      "execution_count": null,
      "metadata": {
        "id": "nk8JTP88A8vs",
        "colab": {
          "base_uri": "https://localhost:8080/"
        },
        "outputId": "c7defe74-134b-4e7a-adbb-f7a571fb0cac"
      },
      "outputs": [
        {
          "output_type": "stream",
          "name": "stderr",
          "text": [
            "[nltk_data] Downloading package punkt to /root/nltk_data...\n",
            "[nltk_data]   Package punkt is already up-to-date!\n",
            "[nltk_data] Downloading package stopwords to /root/nltk_data...\n",
            "[nltk_data]   Package stopwords is already up-to-date!\n",
            "[nltk_data] Downloading package movie_reviews to /root/nltk_data...\n",
            "[nltk_data]   Package movie_reviews is already up-to-date!\n"
          ]
        }
      ],
      "source": [
        "#do not change the code in this cell\n",
        "#preliminary imports\n",
        "\n",
        "#set up nltk\n",
        "import nltk\n",
        "nltk.download('punkt')\n",
        "nltk.download('stopwords')\n",
        "nltk.download('movie_reviews')\n",
        "from nltk.corpus import stopwords\n",
        "from nltk.tokenize import word_tokenize\n",
        "from nltk.corpus import movie_reviews\n",
        "\n",
        "#for setting up training and testing data\n",
        "import random\n",
        "\n",
        "#useful other tools\n",
        "import re\n",
        "import pandas as pd\n",
        "import matplotlib.pyplot as plt\n",
        "%matplotlib inline\n",
        "from itertools import zip_longest\n",
        "from nltk.probability import FreqDist\n",
        "from nltk.classify.api import ClassifierI\n"
      ]
    },
    {
      "cell_type": "code",
      "execution_count": null,
      "metadata": {
        "id": "BHBkzAccCVaZ"
      },
      "outputs": [],
      "source": [
        "#do not change the code in this cell\n",
        "def split_data(data, ratio=0.7): # when the second argument is not given, it defaults to 0.7\n",
        "    \"\"\"\n",
        "    Given corpus generator and ratio:\n",
        "     - partitions the corpus into training data and test data, where the proportion in train is ratio,\n",
        "\n",
        "    :param data: A corpus generator.\n",
        "    :param ratio: The proportion of training documents (default 0.7)\n",
        "    :return: a pair (tuple) of lists where the first element of the\n",
        "            pair is a list of the training data and the second is a list of the test data.\n",
        "    \"\"\"\n",
        "\n",
        "    data = list(data)\n",
        "    n = len(data)\n",
        "    train_indices = random.sample(range(n), int(n * ratio))\n",
        "    test_indices = list(set(range(n)) - set(train_indices))\n",
        "    train = [data[i] for i in train_indices]\n",
        "    test = [data[i] for i in test_indices]\n",
        "    return (train, test)\n",
        "\n",
        "\n",
        "def get_train_test_data():\n",
        "\n",
        "    #get ids of positive and negative movie reviews\n",
        "    pos_review_ids=movie_reviews.fileids('pos')\n",
        "    neg_review_ids=movie_reviews.fileids('neg')\n",
        "\n",
        "    #split positive and negative data into training and testing sets\n",
        "    pos_train_ids, pos_test_ids = split_data(pos_review_ids)\n",
        "    neg_train_ids, neg_test_ids = split_data(neg_review_ids)\n",
        "    #add labels to the data and concatenate\n",
        "    training = [(movie_reviews.words(f),'pos') for f in pos_train_ids]+[(movie_reviews.words(f),'neg') for f in neg_train_ids]\n",
        "    testing = [(movie_reviews.words(f),'pos') for f in pos_test_ids]+[(movie_reviews.words(f),'neg') for f in neg_test_ids]\n",
        "\n",
        "    return training, testing"
      ]
    },
    {
      "cell_type": "markdown",
      "metadata": {
        "id": "1N3LWwBYICPP"
      },
      "source": [
        "When you have run the cell below, your unique training and testing samples will be stored in `training_data` and `testing_data`"
      ]
    },
    {
      "cell_type": "code",
      "execution_count": null,
      "metadata": {
        "id": "HJLegkdPFUJA",
        "colab": {
          "base_uri": "https://localhost:8080/"
        },
        "outputId": "ad20e65e-5818-4dae-cc6d-2739552de647"
      },
      "outputs": [
        {
          "output_type": "stream",
          "name": "stdout",
          "text": [
            "The amount of training data is 1400\n",
            "The amount of testing data is 600\n",
            "The representation of a single data item is below\n",
            "(['most', 'movies', 'seem', 'to', 'release', 'a', ...], 'pos')\n"
          ]
        }
      ],
      "source": [
        "#do not change the code in this cell\n",
        "random.seed(candidateno)\n",
        "training_data,testing_data=get_train_test_data()\n",
        "print(\"The amount of training data is {}\".format(len(training_data)))\n",
        "print(\"The amount of testing data is {}\".format(len(testing_data)))\n",
        "print(\"The representation of a single data item is below\")\n",
        "print(training_data[0])"
      ]
    },
    {
      "cell_type": "markdown",
      "metadata": {
        "id": "RbTq6eGv2XT2"
      },
      "source": [
        "1)  \n",
        "a) **Generate** a list of 10 content words which are representative of the positive reviews in your training data.\n",
        "\n",
        "b) **Generate** a list of 10 content words which are representative of the negative reviews in your training data.\n",
        "\n",
        "c) **Explain** what you have done and why\n",
        "\n",
        "[20\\%]"
      ]
    },
    {
      "cell_type": "markdown",
      "source": [
        "###Pre Processing Data\n",
        "\n",
        "The function norm_data() pre-processes the data like : lowering, normalization, stemming, stopword & punctuation removal"
      ],
      "metadata": {
        "id": "Co3d0ShMF5B4"
      }
    },
    {
      "cell_type": "code",
      "execution_count": null,
      "metadata": {
        "id": "JXHrtNCg2XT4"
      },
      "outputs": [],
      "source": [
        "from nltk.stem import PorterStemmer\n",
        "from nltk import FreqDist\n",
        "from nltk.corpus import stopwords\n",
        "\n",
        "punc = ['.',',','\"',\"'\",';',':',')','(','!','-','_','?','/']\n",
        "ps = PorterStemmer()\n",
        "sw = stopwords.words('english')\n",
        "\n",
        "\n",
        "def norm_data(text):\n",
        "  text = [word.lower() for word in text]\n",
        "  text = [\"num\" if word.isdigit() else word for word in text]\n",
        "  text = [ps.stem(word) for word in text]\n",
        "  text = [word for word in text if word not in punc]\n",
        "  text = [word for word in text if word not in sw]\n",
        "  return text\n",
        "\n",
        "pos_training = [norm_data(corpus[0]) for corpus in training_data if corpus[1]=='pos']\n",
        "neg_training = [norm_data(corpus[0]) for corpus in training_data if corpus[1]=='neg']\n",
        "\n"
      ]
    },
    {
      "cell_type": "markdown",
      "source": [
        "###Creating positive and negative word list"
      ],
      "metadata": {
        "id": "h1jEDQM9GbJ5"
      }
    },
    {
      "cell_type": "code",
      "execution_count": null,
      "metadata": {
        "id": "gvFu36xZ2XT5"
      },
      "outputs": [],
      "source": [
        "pos_list = [word for text in pos_training for word in text]\n",
        "neg_list = [word for text in neg_training for word in text]\n",
        "\n",
        "freq_pos_training = FreqDist(pos_list)\n",
        "freq_neg_training = FreqDist(neg_list)\n"
      ]
    },
    {
      "cell_type": "code",
      "source": [
        "#Creating positive and negative exclusive words\n",
        "\n",
        "pos_content_words = [text for text, freq in freq_pos_training.items() if text not in neg_list]\n",
        "neg_content_words = [text for text, freq in freq_neg_training.items() if text not in pos_list]\n"
      ],
      "metadata": {
        "id": "VW-rLSBWH071"
      },
      "execution_count": null,
      "outputs": []
    },
    {
      "cell_type": "code",
      "source": [
        "print(f\"Positive content words : {pos_content_words[:10]}\")\n",
        "print(f\"Negative content words : {neg_content_words[:10]}\")"
      ],
      "metadata": {
        "colab": {
          "base_uri": "https://localhost:8080/"
        },
        "id": "6F8hINR1CMmN",
        "outputId": "a967afb4-10cf-43d7-ea24-c4fca3e07909"
      },
      "execution_count": null,
      "outputs": [
        {
          "output_type": "stream",
          "name": "stdout",
          "text": [
            "Positive content words : ['thunderlip', 'clubber', 'meredith', 'smocki', 'entertan', 'adriann', 'showi', 'unobtrus', 'oversimplifi', 'unrestrain']\n",
            "Negative content words : ['pejor', 'falwel', 'fret', 'forb', 'mathew', 'mconaughi', 'bongo', 'coitu', 'copul', 'workweek']\n"
          ]
        }
      ]
    },
    {
      "cell_type": "markdown",
      "metadata": {
        "id": "JauTzY5N2XUB"
      },
      "source": []
    },
    {
      "cell_type": "markdown",
      "metadata": {
        "id": "TApOQE6vND20"
      },
      "source": [
        "2)\n",
        "a) **Use** the lists generated in Q1 to build a **word list classifier** which will classify reviews as being positive or negative.\n",
        "\n",
        "b) **Explain** what you have done.\n",
        "\n",
        "[12.5\\%]\n"
      ]
    },
    {
      "cell_type": "markdown",
      "source": [
        "#### The class SimpleClassifier defines a simple classifier that predicts sentiment as either \"positive\" (\"pos\") or \"negative\" (\"neg\") based on word lists. In classify, it scores a given set of words: adding to the score for words in a positive list (_pos) and subtracting for words in a negative list (_neg). If the final score is negative, it classifies as \"neg\"; otherwise, \"pos.\""
      ],
      "metadata": {
        "id": "eT_j1QmOHDYw"
      }
    },
    {
      "cell_type": "code",
      "execution_count": null,
      "metadata": {
        "id": "BThDMrcmODJy",
        "colab": {
          "base_uri": "https://localhost:8080/",
          "height": 36
        },
        "outputId": "b6da2083-bc56-49ba-fe75-191d26f2a18a"
      },
      "outputs": [
        {
          "output_type": "execute_result",
          "data": {
            "text/plain": [
              "'pos'"
            ],
            "application/vnd.google.colaboratory.intrinsic+json": {
              "type": "string"
            }
          },
          "metadata": {},
          "execution_count": 79
        }
      ],
      "source": [
        "from nltk.classify.api import ClassifierI\n",
        "import random\n",
        "\n",
        "class SimpleClassifier(ClassifierI):\n",
        "\n",
        "    def __init__(self, pos, neg):\n",
        "        self._pos = pos\n",
        "        self._neg = neg\n",
        "\n",
        "    def classify(self, words):\n",
        "        score = 0\n",
        "\n",
        "        for word in words :\n",
        "          if word in self._pos:\n",
        "            score+=1\n",
        "          elif word in self._neg:\n",
        "            score-=1\n",
        "        return \"neg\" if score < 0 else \"pos\"\n",
        "\n",
        "    def labels(self):\n",
        "        return (\"pos\", \"neg\")\n",
        "\n",
        "\n",
        "#example\n",
        "classifier = SimpleClassifier(pos_content_words, neg_content_words)\n",
        "classifier.classify(FreqDist(\"This movie was good\".split()))"
      ]
    },
    {
      "cell_type": "code",
      "source": [
        "predicted = [classifier.classify(FreqDist(text[0])) for text in testing_data]\n",
        "actual = [text[1] for text in testing_data]"
      ],
      "metadata": {
        "id": "GSDIVRSD6NJ0"
      },
      "execution_count": null,
      "outputs": []
    },
    {
      "cell_type": "markdown",
      "metadata": {
        "id": "C6vK5Vyz2XUF"
      },
      "source": []
    },
    {
      "cell_type": "markdown",
      "metadata": {
        "id": "YZdDO_Y92XUH"
      },
      "source": [
        "3)\n",
        "a) **Calculate** the accuracy, precision, recall and F1 score of your classifier.\n",
        "\n",
        "b) Is it reasonable to evaluate the classifier in terms of its accuracy?  **Explain** your answer and give a counter-example (a scenario where it would / would not be reasonable to evaluate the classifier in terms of its accuracy).\n",
        "\n",
        "[20\\%]"
      ]
    },
    {
      "cell_type": "markdown",
      "source": [
        "The class ConfusionMatrix to evaluate a classifier’s performance on binary classification (e.g., \"pos\" vs. \"neg\").\n",
        "\n",
        "Initialization (__init__): Takes predictions and goldstandard (true labels) and counts the instances for:\n",
        "\n",
        "TP (True Positives): correctly predicted as positive.\n",
        "FP (False Positives): predicted as positive but actually negative.\n",
        "FN (False Negatives): predicted as negative but actually positive.\n",
        "TN (True Negatives): correctly predicted as negative.\n",
        "precision(): Calculates precision (TP / (TP + FP)), which is the accuracy of positive predictions.\n",
        "\n",
        "recall(): Calculates recall (TP / (TP + FN)), which is the coverage of actual positives.\n",
        "\n",
        "f1(): Calculates the F1 score, the harmonic mean of precision and recall."
      ],
      "metadata": {
        "id": "rnUwhMCXHqFD"
      }
    },
    {
      "cell_type": "code",
      "execution_count": null,
      "metadata": {
        "id": "1LQc8bsA2XUI"
      },
      "outputs": [],
      "source": [
        "class ConfusionMatrix:\n",
        "    def __init__(self,predictions,goldstandard,classes=(\"pos\",\"neg\")):\n",
        "\n",
        "        (self.c1,self.c2)=classes\n",
        "        self.TP=0\n",
        "        self.FP=0\n",
        "        self.FN=0\n",
        "        self.TN=0\n",
        "        for p,g in zip(predictions,goldstandard):\n",
        "            if g==self.c1:\n",
        "                if p==self.c1:\n",
        "                    self.TP+=1\n",
        "                else:\n",
        "                    self.FN+=1\n",
        "\n",
        "            elif p==self.c1:\n",
        "                self.FP+=1\n",
        "            else:\n",
        "                self.TN+=1\n",
        "\n",
        "\n",
        "    def precision(self):\n",
        "        p=0\n",
        "        if self.TP + self.FP == 0:\n",
        "          p=0\n",
        "        else :\n",
        "          p = self.TP/(self.TP + self.FP)\n",
        "\n",
        "        return p\n",
        "\n",
        "    def recall(self):\n",
        "        r=0\n",
        "        if self.TP + self.FN ==0:\n",
        "          r=0\n",
        "        else :\n",
        "          r=self.TP/(self.TP+self.FN)\n",
        "\n",
        "        return r\n",
        "\n",
        "    def f1(self):\n",
        "        f1=0\n",
        "        p=self.precision()\n",
        "        r=self.recall()\n",
        "        if p+r ==0:\n",
        "          f1=0\n",
        "        else :\n",
        "          f1=(2*p*r)/(p+r)\n",
        "\n",
        "        return f1"
      ]
    },
    {
      "cell_type": "code",
      "execution_count": null,
      "metadata": {
        "id": "R_i80ceP2XUJ"
      },
      "outputs": [],
      "source": [
        "cm = ConfusionMatrix(predicted, actual)"
      ]
    },
    {
      "cell_type": "code",
      "source": [
        "actual[:5]"
      ],
      "metadata": {
        "colab": {
          "base_uri": "https://localhost:8080/"
        },
        "id": "MlM21DFujt7k",
        "outputId": "0d780b7a-2866-499e-9356-efd6c7538b77"
      },
      "execution_count": null,
      "outputs": [
        {
          "output_type": "execute_result",
          "data": {
            "text/plain": [
              "['pos', 'pos', 'pos', 'pos', 'pos']"
            ]
          },
          "metadata": {},
          "execution_count": 68
        }
      ]
    },
    {
      "cell_type": "code",
      "execution_count": null,
      "metadata": {
        "id": "VbYwwhcs2XUL",
        "colab": {
          "base_uri": "https://localhost:8080/"
        },
        "outputId": "ba1f52b3-3272-49ca-93e7-b977e3ea9059"
      },
      "outputs": [
        {
          "output_type": "execute_result",
          "data": {
            "text/plain": [
              "0.7063953488372093"
            ]
          },
          "metadata": {},
          "execution_count": 57
        }
      ],
      "source": [
        "cm.f1()"
      ]
    },
    {
      "cell_type": "markdown",
      "metadata": {
        "id": "AVZp0N5J2XUL"
      },
      "source": []
    },
    {
      "cell_type": "markdown",
      "metadata": {
        "id": "LIS9UpmJNEAp"
      },
      "source": [
        "4)\n",
        "a)  **Construct** a Naive Bayes classifier (e.g., from NLTK).\n",
        "\n",
        "b)  **Compare** the performance of your word list classifier with the Naive Bayes classifier.  **Discuss** your results.\n",
        "\n",
        "[12.5\\%]"
      ]
    },
    {
      "cell_type": "markdown",
      "source": [
        "This NBClassifier class builds a Naive Bayes text classifier:\n",
        "\n",
        "_set_known_vocabulary: Collects all unique words from the training data.\n",
        "\n",
        "_set_priors: Calculates prior probabilities for each class based on training data labels.\n",
        "\n",
        "_set_cond_probs: Calculates conditional probabilities of each word given a class with Laplace smoothing.\n",
        "\n",
        "train: Calls helper methods to initialize vocabulary, priors, and conditional probabilities.\n",
        "\n",
        "classify: Computes log-probabilities for each class based on priors and word probabilities in the document, then returns the class with the highest score."
      ],
      "metadata": {
        "id": "Gjpdk_PQIkvh"
      }
    },
    {
      "cell_type": "code",
      "source": [
        "#Constructing Naive Bayes Classifier\n",
        "\n",
        "import math\n",
        "from nltk.classify.api import ClassifierI\n",
        "\n",
        "class NBClassifier(ClassifierI):\n",
        "\n",
        "    def __init__(self):\n",
        "\n",
        "        pass\n",
        "\n",
        "    def _set_known_vocabulary(self,training_data):\n",
        "        known=[]\n",
        "        for doc,label in training_data:\n",
        "            known+=list(doc.keys())\n",
        "        self.known= set(known)\n",
        "\n",
        "    def _set_priors(self,training_data):\n",
        "        priors={}\n",
        "        for (doc,label) in training_data:\n",
        "            priors[label]=priors.get(label,0)+1\n",
        "        total=sum(priors.values())\n",
        "        for key,value in priors.items():\n",
        "            priors[key]=value/total\n",
        "        self.priors=priors\n",
        "\n",
        "    def _set_cond_probs(self,training_data):\n",
        "        conds={}\n",
        "        for(doc,label) in training_data:\n",
        "            classcond=conds.get(label,{})\n",
        "            for word in doc.keys():\n",
        "                classcond[word]=classcond.get(word,0)+1\n",
        "\n",
        "            conds[label]=classcond\n",
        "\n",
        "        for label, classcond in conds.items():\n",
        "            for word in self.known:\n",
        "\n",
        "                classcond[word]=classcond.get(word,0)+1\n",
        "            conds[label]=classcond\n",
        "\n",
        "        for label,dist in conds.items():\n",
        "            total=sum(dist.values())\n",
        "            conds[label]={key:value/total for (key,value) in dist.items()}\n",
        "\n",
        "        self.conds=conds\n",
        "\n",
        "    def train(self,training_data):\n",
        "        self._set_known_vocabulary(training_data)\n",
        "        self._set_priors(training_data)\n",
        "        self._set_cond_probs(training_data)\n",
        "\n",
        "    def classify(self,doc):\n",
        "        doc_probs={key:math.log(value) for (key,value) in self.priors.items()}\n",
        "        for word in doc.keys():\n",
        "            if word in self.known:\n",
        "                doc_probs={classlabel:sofar+math.log(self.conds[classlabel].get(word,0)) for (classlabel,sofar) in doc_probs.items()}\n",
        "\n",
        "        highprob=max(doc_probs.values())\n",
        "        classes=[c for c in doc_probs.keys() if doc_probs[c]==highprob]\n",
        "        return random.choice(classes)\n",
        "\n",
        "\n"
      ],
      "metadata": {
        "id": "J62cA1O8kAZt"
      },
      "execution_count": null,
      "outputs": []
    },
    {
      "cell_type": "code",
      "source": [
        "\n",
        "training_norm=[(FreqDist(norm_data(wordlist)),label) for (wordlist,label) in training_data] #creating freqdist of training data\n",
        "testing_norm=[(FreqDist(norm_data(wordlist)),label) for (wordlist,label) in testing_data]   #creating freqdist of testing data"
      ],
      "metadata": {
        "id": "ejWNNw6cttHz"
      },
      "execution_count": null,
      "outputs": []
    },
    {
      "cell_type": "code",
      "source": [
        "myclassifier=NBClassifier()\n",
        "myclassifier.train(training_norm)\n",
        "predictions_naivebayes = myclassifier.classify_many(doc for (doc,label) in testing_norm)\n",
        "docs,labels=zip(*testing_norm)\n",
        "senti_cm_naivebayes=ConfusionMatrix(predictions_naivebayes,labels)\n"
      ],
      "metadata": {
        "id": "fhzWU-eWkvsB"
      },
      "execution_count": null,
      "outputs": []
    },
    {
      "cell_type": "code",
      "source": [
        "acc = (senti_cm_naivebayes.TP + senti_cm_naivebayes.TN)/len(predictions_naivebayes)\n",
        "acc  #Accuracy"
      ],
      "metadata": {
        "colab": {
          "base_uri": "https://localhost:8080/"
        },
        "id": "_9XF8W2LibR4",
        "outputId": "69ca220c-9e0b-48b9-ea0e-3acff7869f97"
      },
      "execution_count": null,
      "outputs": [
        {
          "output_type": "execute_result",
          "data": {
            "text/plain": [
              "0.8233333333333334"
            ]
          },
          "metadata": {},
          "execution_count": 73
        }
      ]
    },
    {
      "cell_type": "code",
      "source": [
        "#Precision\n",
        "senti_cm_naivebayes.precision()"
      ],
      "metadata": {
        "colab": {
          "base_uri": "https://localhost:8080/"
        },
        "id": "_H3WpG9zibCU",
        "outputId": "cdcc3122-d312-4a77-9063-d25971230578"
      },
      "execution_count": null,
      "outputs": [
        {
          "output_type": "execute_result",
          "data": {
            "text/plain": [
              "0.8344827586206897"
            ]
          },
          "metadata": {},
          "execution_count": 74
        }
      ]
    },
    {
      "cell_type": "code",
      "source": [
        "#Recall\n",
        "senti_cm_naivebayes.recall()"
      ],
      "metadata": {
        "colab": {
          "base_uri": "https://localhost:8080/"
        },
        "id": "VMmSbJ_Fsgr6",
        "outputId": "6b0e8804-3b0a-4f10-8610-1928ed6c92c6"
      },
      "execution_count": null,
      "outputs": [
        {
          "output_type": "execute_result",
          "data": {
            "text/plain": [
              "0.81"
            ]
          },
          "metadata": {},
          "execution_count": 29
        }
      ]
    },
    {
      "cell_type": "code",
      "source": [
        "#F1 Score\n",
        "senti_cm_naivebayes.f1()"
      ],
      "metadata": {
        "colab": {
          "base_uri": "https://localhost:8080/"
        },
        "id": "zPqucD2liayi",
        "outputId": "fae29eae-b960-4e89-8c49-c46ff3e1eecd"
      },
      "execution_count": null,
      "outputs": [
        {
          "output_type": "execute_result",
          "data": {
            "text/plain": [
              "0.8279386712095401"
            ]
          },
          "metadata": {},
          "execution_count": 30
        }
      ]
    },
    {
      "cell_type": "markdown",
      "metadata": {
        "id": "bytPkuHf2XUO"
      },
      "source": []
    },
    {
      "cell_type": "markdown",
      "metadata": {
        "id": "LGDXaVDqOSfY"
      },
      "source": [
        "5)\n",
        "a) Design and **carry out an experiment** into the impact of the **length of the wordlists** on the wordlist classifier.  Make sure you **describe** design decisions in your experiment, include a **graph** of your results and **discuss** your conclusions.\n",
        "\n",
        "b) Would you **recommend** a wordlist classifier or a Naive Bayes classifier for future work in this area?  **Justify** your answer.\n",
        "\n",
        "[25\\%]\n"
      ]
    },
    {
      "cell_type": "markdown",
      "metadata": {
        "id": "UlxoUthX2XUP"
      },
      "source": []
    },
    {
      "cell_type": "markdown",
      "source": [
        "This len_wordlist function:\n",
        "\n",
        "Loops through different word list sizes (alist).\n",
        "Trains a SimpleClassifier using corresponding positive and negative word lists.\n",
        "Classifies each document in testing_data and computes the predictions.\n",
        "Calculates accuracy and F1 score using a ConfusionMatrix.\n",
        "Returns lists of accuracy and F1 scores for each word list size."
      ],
      "metadata": {
        "id": "k1N_ILP3KX8H"
      }
    },
    {
      "cell_type": "code",
      "execution_count": null,
      "metadata": {
        "id": "T1L7mZ-k2XUQ"
      },
      "outputs": [],
      "source": [
        "import seaborn as sns\n",
        "\n",
        "alist = [10,50,100,150,200,250,300,350,400,500,600,700,800,900,1000]\n",
        "def len_wordlist(alist):\n",
        "  accuracy = []\n",
        "  f1 = []\n",
        "\n",
        "  for i in alist:\n",
        "    classifier = SimpleClassifier(pos_content_words[i], neg_content_words[i])\n",
        "    predicted = [classifier.classify(FreqDist(text[0])) for text in testing_data]\n",
        "    actual = [text[1] for text in testing_data]\n",
        "    cm = ConfusionMatrix(predicted, actual)\n",
        "    accuracy.append((cm.TP+cm.TN)/len(testing_data))\n",
        "    f1.append(cm.f1())\n",
        "\n",
        "  return accuracy, f1"
      ]
    },
    {
      "cell_type": "code",
      "execution_count": null,
      "metadata": {
        "id": "xFeOWIRm2XUQ"
      },
      "outputs": [],
      "source": [
        "accuracy, f1 = len_wordlist(alist)"
      ]
    },
    {
      "cell_type": "code",
      "source": [
        "print(f1)\n",
        "print(accuracy)"
      ],
      "metadata": {
        "colab": {
          "base_uri": "https://localhost:8080/"
        },
        "id": "banBTYFX8m2y",
        "outputId": "39109477-cd0d-4e5f-e953-23a7e07d4e2a"
      },
      "execution_count": null,
      "outputs": [
        {
          "output_type": "stream",
          "name": "stdout",
          "text": [
            "[0.6606741573033709, 0.5656565656565656, 0.41316270566727603, 0.643985419198056, 0.39089184060721066, 0.6170212765957447, 0.5784695201037613, 0.5639445300462249, 0.6651835372636262, 0.6689113355780022, 0.2021276595744681, 0.08849557522123894, 0.6666666666666666, 0, 0.3639921722113502]\n",
            "[0.49666666666666665, 0.49833333333333335, 0.465, 0.5116666666666667, 0.465, 0.52, 0.4583333333333333, 0.5283333333333333, 0.49833333333333335, 0.5083333333333333, 0.5, 0.485, 0.5, 0.49833333333333335, 0.4583333333333333]\n"
          ]
        }
      ]
    },
    {
      "cell_type": "code",
      "source": [
        "import matplotlib.pyplot as plt\n",
        "\n",
        "plt.figure(figsize=(8, 6))\n",
        "plt.plot(alist, accuracy, marker='o', label='Accuracy')\n",
        "plt.plot(alist, f1, marker='o', label='F1 Score')\n",
        "plt.xlabel('Size of Word Lists')\n",
        "plt.ylabel('Scores')\n",
        "plt.title('Scores vs. Size of Word Lists')\n",
        "plt.legend()\n",
        "plt.show()"
      ],
      "metadata": {
        "colab": {
          "base_uri": "https://localhost:8080/",
          "height": 564
        },
        "id": "fwbNDR3IAoL6",
        "outputId": "f6614de4-ffcc-45db-8175-eddcf0c5645e"
      },
      "execution_count": null,
      "outputs": [
        {
          "output_type": "display_data",
          "data": {
            "text/plain": [
              "<Figure size 800x600 with 1 Axes>"
            ],
            "image/png": "[encoded data removed]"
          },
          "metadata": {}
        }
      ]
    },
    {
      "cell_type": "markdown",
      "source": [
        "I recommend using a Naive Bayes classifier over a wordlist classifier because it is more scalable, flexible, and can handle unseen data. Naive Bayes adapts to new data and provides better accuracy, while wordlist classifiers are static, limited, and fail to generalize well."
      ],
      "metadata": {
        "id": "jzdMbxrUKpS6"
      }
    },
    {
      "cell_type": "markdown",
      "metadata": {
        "id": "Ym-TGvYS2XUR"
      },
      "source": []
    },
    {
      "cell_type": "code",
      "execution_count": null,
      "metadata": {
        "id": "34rdlS_iPov6",
        "colab": {
          "base_uri": "https://localhost:8080/",
          "height": 356
        },
        "outputId": "73598eda-2973-4e72-d799-ade39493ec9f"
      },
      "outputs": [
        {
          "output_type": "error",
          "ename": "MessageError",
          "evalue": "Error: credential propagation was unsuccessful",
          "traceback": [
            "\u001b[0;31m---------------------------------------------------------------------------\u001b[0m",
            "\u001b[0;31mMessageError\u001b[0m                              Traceback (most recent call last)",
            "\u001b[0;32m<ipython-input-82-a15b81e7c60f>\u001b[0m in \u001b[0;36m<cell line: 7>\u001b[0;34m()\u001b[0m\n\u001b[1;32m      5\u001b[0m \u001b[0;34m\u001b[0m\u001b[0m\n\u001b[1;32m      6\u001b[0m \u001b[0;32mfrom\u001b[0m \u001b[0mgoogle\u001b[0m\u001b[0;34m.\u001b[0m\u001b[0mcolab\u001b[0m \u001b[0;32mimport\u001b[0m \u001b[0mdrive\u001b[0m\u001b[0;34m\u001b[0m\u001b[0;34m\u001b[0m\u001b[0m\n\u001b[0;32m----> 7\u001b[0;31m \u001b[0mdrive\u001b[0m\u001b[0;34m.\u001b[0m\u001b[0mmount\u001b[0m\u001b[0;34m(\u001b[0m\u001b[0;34m'/content/drive'\u001b[0m\u001b[0;34m)\u001b[0m\u001b[0;34m\u001b[0m\u001b[0;34m\u001b[0m\u001b[0m\n\u001b[0m\u001b[1;32m      8\u001b[0m \u001b[0;34m\u001b[0m\u001b[0m\n\u001b[1;32m      9\u001b[0m \u001b[0mfilepath\u001b[0m\u001b[0;34m=\u001b[0m\u001b[0;34m\"/content/drive/MyDrive/Colab Notebooks/ANLPassignment2024.ipynb\"\u001b[0m\u001b[0;34m\u001b[0m\u001b[0;34m\u001b[0m\u001b[0m\n",
            "\u001b[0;32m/usr/local/lib/python3.10/dist-packages/google/colab/drive.py\u001b[0m in \u001b[0;36mmount\u001b[0;34m(mountpoint, force_remount, timeout_ms, readonly)\u001b[0m\n\u001b[1;32m     98\u001b[0m \u001b[0;32mdef\u001b[0m \u001b[0mmount\u001b[0m\u001b[0;34m(\u001b[0m\u001b[0mmountpoint\u001b[0m\u001b[0;34m,\u001b[0m \u001b[0mforce_remount\u001b[0m\u001b[0;34m=\u001b[0m\u001b[0;32mFalse\u001b[0m\u001b[0;34m,\u001b[0m \u001b[0mtimeout_ms\u001b[0m\u001b[0;34m=\u001b[0m\u001b[0;36m120000\u001b[0m\u001b[0;34m,\u001b[0m \u001b[0mreadonly\u001b[0m\u001b[0;34m=\u001b[0m\u001b[0;32mFalse\u001b[0m\u001b[0;34m)\u001b[0m\u001b[0;34m:\u001b[0m\u001b[0;34m\u001b[0m\u001b[0;34m\u001b[0m\u001b[0m\n\u001b[1;32m     99\u001b[0m   \u001b[0;34m\"\"\"Mount your Google Drive at the specified mountpoint path.\"\"\"\u001b[0m\u001b[0;34m\u001b[0m\u001b[0;34m\u001b[0m\u001b[0m\n\u001b[0;32m--> 100\u001b[0;31m   return _mount(\n\u001b[0m\u001b[1;32m    101\u001b[0m       \u001b[0mmountpoint\u001b[0m\u001b[0;34m,\u001b[0m\u001b[0;34m\u001b[0m\u001b[0;34m\u001b[0m\u001b[0m\n\u001b[1;32m    102\u001b[0m       \u001b[0mforce_remount\u001b[0m\u001b[0;34m=\u001b[0m\u001b[0mforce_remount\u001b[0m\u001b[0;34m,\u001b[0m\u001b[0;34m\u001b[0m\u001b[0;34m\u001b[0m\u001b[0m\n",
            "\u001b[0;32m/usr/local/lib/python3.10/dist-packages/google/colab/drive.py\u001b[0m in \u001b[0;36m_mount\u001b[0;34m(mountpoint, force_remount, timeout_ms, ephemeral, readonly)\u001b[0m\n\u001b[1;32m    135\u001b[0m   )\n\u001b[1;32m    136\u001b[0m   \u001b[0;32mif\u001b[0m \u001b[0mephemeral\u001b[0m\u001b[0;34m:\u001b[0m\u001b[0;34m\u001b[0m\u001b[0;34m\u001b[0m\u001b[0m\n\u001b[0;32m--> 137\u001b[0;31m     _message.blocking_request(\n\u001b[0m\u001b[1;32m    138\u001b[0m         \u001b[0;34m'request_auth'\u001b[0m\u001b[0;34m,\u001b[0m\u001b[0;34m\u001b[0m\u001b[0;34m\u001b[0m\u001b[0m\n\u001b[1;32m    139\u001b[0m         \u001b[0mrequest\u001b[0m\u001b[0;34m=\u001b[0m\u001b[0;34m{\u001b[0m\u001b[0;34m'authType'\u001b[0m\u001b[0;34m:\u001b[0m \u001b[0;34m'dfs_ephemeral'\u001b[0m\u001b[0;34m}\u001b[0m\u001b[0;34m,\u001b[0m\u001b[0;34m\u001b[0m\u001b[0;34m\u001b[0m\u001b[0m\n",
            "\u001b[0;32m/usr/local/lib/python3.10/dist-packages/google/colab/_message.py\u001b[0m in \u001b[0;36mblocking_request\u001b[0;34m(request_type, request, timeout_sec, parent)\u001b[0m\n\u001b[1;32m    174\u001b[0m       \u001b[0mrequest_type\u001b[0m\u001b[0;34m,\u001b[0m \u001b[0mrequest\u001b[0m\u001b[0;34m,\u001b[0m \u001b[0mparent\u001b[0m\u001b[0;34m=\u001b[0m\u001b[0mparent\u001b[0m\u001b[0;34m,\u001b[0m \u001b[0mexpect_reply\u001b[0m\u001b[0;34m=\u001b[0m\u001b[0;32mTrue\u001b[0m\u001b[0;34m\u001b[0m\u001b[0;34m\u001b[0m\u001b[0m\n\u001b[1;32m    175\u001b[0m   )\n\u001b[0;32m--> 176\u001b[0;31m   \u001b[0;32mreturn\u001b[0m \u001b[0mread_reply_from_input\u001b[0m\u001b[0;34m(\u001b[0m\u001b[0mrequest_id\u001b[0m\u001b[0;34m,\u001b[0m \u001b[0mtimeout_sec\u001b[0m\u001b[0;34m)\u001b[0m\u001b[0;34m\u001b[0m\u001b[0;34m\u001b[0m\u001b[0m\n\u001b[0m",
            "\u001b[0;32m/usr/local/lib/python3.10/dist-packages/google/colab/_message.py\u001b[0m in \u001b[0;36mread_reply_from_input\u001b[0;34m(message_id, timeout_sec)\u001b[0m\n\u001b[1;32m    101\u001b[0m     ):\n\u001b[1;32m    102\u001b[0m       \u001b[0;32mif\u001b[0m \u001b[0;34m'error'\u001b[0m \u001b[0;32min\u001b[0m \u001b[0mreply\u001b[0m\u001b[0;34m:\u001b[0m\u001b[0;34m\u001b[0m\u001b[0;34m\u001b[0m\u001b[0m\n\u001b[0;32m--> 103\u001b[0;31m         \u001b[0;32mraise\u001b[0m \u001b[0mMessageError\u001b[0m\u001b[0;34m(\u001b[0m\u001b[0mreply\u001b[0m\u001b[0;34m[\u001b[0m\u001b[0;34m'error'\u001b[0m\u001b[0;34m]\u001b[0m\u001b[0;34m)\u001b[0m\u001b[0;34m\u001b[0m\u001b[0;34m\u001b[0m\u001b[0m\n\u001b[0m\u001b[1;32m    104\u001b[0m       \u001b[0;32mreturn\u001b[0m \u001b[0mreply\u001b[0m\u001b[0;34m.\u001b[0m\u001b[0mget\u001b[0m\u001b[0;34m(\u001b[0m\u001b[0;34m'data'\u001b[0m\u001b[0;34m,\u001b[0m \u001b[0;32mNone\u001b[0m\u001b[0;34m)\u001b[0m\u001b[0;34m\u001b[0m\u001b[0;34m\u001b[0m\u001b[0m\n\u001b[1;32m    105\u001b[0m \u001b[0;34m\u001b[0m\u001b[0m\n",
            "\u001b[0;31mMessageError\u001b[0m: Error: credential propagation was unsuccessful"
          ]
        }
      ],
      "source": [
        "##This code will word count all of the markdown cells in the notebook saved at filepath\n",
        "\n",
        "import io\n",
        "from nbformat import current\n",
        "\n",
        "from google.colab import drive\n",
        "drive.mount('/content/drive')\n",
        "\n",
        "filepath=\"/content/drive/MyDrive/Colab Notebooks/ANLPassignment2024.ipynb\"\n",
        "question_count=432\n",
        "\n",
        "with io.open(filepath, 'r', encoding='utf-8') as f:\n",
        "    nb = current.read(f, 'json')\n",
        "\n",
        "word_count = 0\n",
        "for cell in nb.worksheets[0].cells:\n",
        "    if cell.cell_type == \"markdown\":\n",
        "        word_count += len(cell['source'].replace('#', '').lstrip().split(' '))\n",
        "print(\"Submission length is {}\".format(word_count-question_count))"
      ]
    },
    {
      "cell_type": "code",
      "source": [],
      "metadata": {
        "id": "ka6BDlQhJA5t"
      },
      "execution_count": null,
      "outputs": []
    }
  ],
  "metadata": {
    "colab": {
      "provenance": [],
      "include_colab_link": true
    },
    "kernelspec": {
      "display_name": "Python 3",
      "language": "python",
      "name": "python3"
    },
    "language_info": {
      "codemirror_mode": {
        "name": "ipython",
        "version": 3
      },
      "file_extension": ".py",
      "mimetype": "text/x-python",
      "name": "python",
      "nbconvert_exporter": "python",
      "pygments_lexer": "ipython3",
      "version": "3.7.4"
    }
  },
  "nbformat": 4,
  "nbformat_minor": 0
}